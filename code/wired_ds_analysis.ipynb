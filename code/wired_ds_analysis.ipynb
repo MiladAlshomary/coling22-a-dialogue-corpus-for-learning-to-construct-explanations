{
 "cells": [
  {
   "cell_type": "code",
   "execution_count": 1,
   "metadata": {},
   "outputs": [],
   "source": [
    "import json\n",
    "import pandas as pd\n",
    "import numpy as np\n",
    "import glob\n",
    "import nltk\n",
    "import matplotlib.pyplot as plt\n",
    "import scipy.stats as stats\n",
    "\n",
    "pd.set_option('display.max_colwidth', None)"
   ]
  },
  {
   "cell_type": "markdown",
   "metadata": {},
   "source": [
    "Each topic is explained in five dialogs: first to a child, then a teenager, then an undergrad majoring in the same subject, a grad student and, finally, a colleague.\n",
    "    "
   ]
  },
  {
   "cell_type": "code",
   "execution_count": 2,
   "metadata": {},
   "outputs": [],
   "source": [
    "dialog_lvls_dict = {\n",
    "    2: 'self',\n",
    "    3: 'child',\n",
    "    4: 'teenager',\n",
    "    5: 'undergrad',\n",
    "    6: 'grad',\n",
    "    7: 'colleague'\n",
    "}"
   ]
  },
  {
   "cell_type": "markdown",
   "metadata": {},
   "source": [
    "### Parsing json scripts into one corpus dataset:"
   ]
  },
  {
   "cell_type": "code",
   "execution_count": 19,
   "metadata": {
    "scrolled": true,
    "tags": []
   },
   "outputs": [],
   "source": [
    "dialogs = []\n",
    "for f in glob.glob('Wired_crawing/*json'):\n",
    "    json_obj = json.load(open(f))\n",
    "    topic = f.split('/')[-1].replace('.json', '')\n",
    "    links = {x[0] : (x[1]['youtube_link'], x[1]['wired_link']) for x in json_obj.items()}\n",
    "    for speaker_id, value in json_obj.items():\n",
    "\n",
    "        for sent_obj in value['dialog']:\n",
    "            if 'Reciever' not in sent_obj:\n",
    "                print('Reciever not in: ', topic)\n",
    "                continue\n",
    "            \n",
    "            dialog_youtube_link=links[sent_obj['Reciever']][0]\n",
    "            dialog_wired_link=links[sent_obj['Reciever']][1]\n",
    "        \n",
    "            turn_sentences = nltk.sent_tokenize(' '.join(sent_obj['Sentence']))\n",
    "            turn_num_tokens = sum([len(nltk.word_tokenize(s)) for s in turn_sentences])\n",
    "            dialogs.append([topic, dialog_youtube_link, dialog_wired_link, dialog_lvls_dict[int(sent_obj['Reciever']) + int(speaker_id)], topic + '_' + str(int(sent_obj['Reciever']) + int(speaker_id)), int(speaker_id), int(sent_obj['Reciever']), int(sent_obj['Sequence']), \n",
    "                            sent_obj['Sentence'], turn_sentences, turn_num_tokens])\n",
    "\n",
    "dialogs_df = pd.DataFrame(dialogs, columns=['topic', 'youtube_link', 'wired_link','dialog_lvl', 'dialog_id', 'speaker_id', 'reciever_id', 'turn_id', 'turn', 'turn_sentences', 'turn_num_tokens'])"
   ]
  },
  {
   "cell_type": "code",
   "execution_count": 20,
   "metadata": {},
   "outputs": [
    {
     "data": {
      "text/plain": [
       "1573"
      ]
     },
     "execution_count": 20,
     "metadata": {},
     "output_type": "execute_result"
    }
   ],
   "source": [
    "len(dialogs)"
   ]
  },
  {
   "cell_type": "code",
   "execution_count": 24,
   "metadata": {},
   "outputs": [],
   "source": [
    "dialogs_df.to_json('data/wired_parsed_ds.json')"
   ]
  },
  {
   "cell_type": "code",
   "execution_count": 44,
   "metadata": {},
   "outputs": [],
   "source": [
    "dialog_sents_df = dialogs_df.groupby('dialog_id').agg({'turn_sentences': lambda list: [item for sublist in list for item in sublist]}).reset_index()\n",
    "dialog_sents_df['num_sents'] = dialog_sents_df['turn_sentences'].apply(lambda l: len(l))"
   ]
  },
  {
   "cell_type": "code",
   "execution_count": 45,
   "metadata": {},
   "outputs": [],
   "source": [
    "dialogs_df = dialogs_df[dialogs_df.dialog_lvl != 'self']"
   ]
  },
  {
   "cell_type": "code",
   "execution_count": 46,
   "metadata": {
    "scrolled": true,
    "tags": []
   },
   "outputs": [
    {
     "data": {
      "text/html": [
       "<div>\n",
       "<style scoped>\n",
       "    .dataframe tbody tr th:only-of-type {\n",
       "        vertical-align: middle;\n",
       "    }\n",
       "\n",
       "    .dataframe tbody tr th {\n",
       "        vertical-align: top;\n",
       "    }\n",
       "\n",
       "    .dataframe thead th {\n",
       "        text-align: right;\n",
       "    }\n",
       "</style>\n",
       "<table border=\"1\" class=\"dataframe\">\n",
       "  <thead>\n",
       "    <tr style=\"text-align: right;\">\n",
       "      <th></th>\n",
       "      <th>topic</th>\n",
       "      <th>youtube_link</th>\n",
       "      <th>wired_link</th>\n",
       "      <th>dialog_lvl</th>\n",
       "      <th>dialog_id</th>\n",
       "      <th>speaker_id</th>\n",
       "      <th>reciever_id</th>\n",
       "      <th>turn_id</th>\n",
       "      <th>turn</th>\n",
       "      <th>turn_sentences</th>\n",
       "      <th>turn_num_tokens</th>\n",
       "    </tr>\n",
       "  </thead>\n",
       "  <tbody>\n",
       "    <tr>\n",
       "      <th>1</th>\n",
       "      <td>blockchain</td>\n",
       "      <td>https://youtu.be/hYip_Vuv8J0?t=37</td>\n",
       "      <td>https://www.wired.com/video/watch/expert-explains-one-concept-in-5-levels-of-difficulty-blockchain</td>\n",
       "      <td>child</td>\n",
       "      <td>blockchain_3</td>\n",
       "      <td>1</td>\n",
       "      <td>2</td>\n",
       "      <td>1</td>\n",
       "      <td>[Do you know what we're gonna talk about today?, It's called blockchain.]</td>\n",
       "      <td>[Do you know what we're gonna talk about today?, It's called blockchain.]</td>\n",
       "      <td>17</td>\n",
       "    </tr>\n",
       "    <tr>\n",
       "      <th>2</th>\n",
       "      <td>blockchain</td>\n",
       "      <td>https://youtu.be/hYip_Vuv8J0?t=37</td>\n",
       "      <td>https://www.wired.com/video/watch/expert-explains-one-concept-in-5-levels-of-difficulty-blockchain</td>\n",
       "      <td>child</td>\n",
       "      <td>blockchain_3</td>\n",
       "      <td>1</td>\n",
       "      <td>2</td>\n",
       "      <td>3</td>\n",
       "      <td>[That's a really good question., It's actually a way that we can trade., Do you know what trade is?]</td>\n",
       "      <td>[That's a really good question., It's actually a way that we can trade., Do you know what trade is?]</td>\n",
       "      <td>24</td>\n",
       "    </tr>\n",
       "    <tr>\n",
       "      <th>3</th>\n",
       "      <td>blockchain</td>\n",
       "      <td>https://youtu.be/hYip_Vuv8J0?t=37</td>\n",
       "      <td>https://www.wired.com/video/watch/expert-explains-one-concept-in-5-levels-of-difficulty-blockchain</td>\n",
       "      <td>child</td>\n",
       "      <td>blockchain_3</td>\n",
       "      <td>1</td>\n",
       "      <td>2</td>\n",
       "      <td>5</td>\n",
       "      <td>[When you give up most of what you want?, Well, sometimes that definitely happens for sure., What if I told you that this is the kind of technology, that I work on that means you could trade, with any kid all over the world?]</td>\n",
       "      <td>[When you give up most of what you want?, Well, sometimes that definitely happens for sure., What if I told you that this is the kind of technology that I work on that means you could trade with any kid all over the world?]</td>\n",
       "      <td>48</td>\n",
       "    </tr>\n",
       "    <tr>\n",
       "      <th>4</th>\n",
       "      <td>blockchain</td>\n",
       "      <td>https://youtu.be/hYip_Vuv8J0?t=37</td>\n",
       "      <td>https://www.wired.com/video/watch/expert-explains-one-concept-in-5-levels-of-difficulty-blockchain</td>\n",
       "      <td>child</td>\n",
       "      <td>blockchain_3</td>\n",
       "      <td>1</td>\n",
       "      <td>2</td>\n",
       "      <td>7</td>\n",
       "      <td>[Yeah.]</td>\n",
       "      <td>[Yeah.]</td>\n",
       "      <td>2</td>\n",
       "    </tr>\n",
       "    <tr>\n",
       "      <th>5</th>\n",
       "      <td>blockchain</td>\n",
       "      <td>https://youtu.be/hYip_Vuv8J0?t=37</td>\n",
       "      <td>https://www.wired.com/video/watch/expert-explains-one-concept-in-5-levels-of-difficulty-blockchain</td>\n",
       "      <td>child</td>\n",
       "      <td>blockchain_3</td>\n",
       "      <td>1</td>\n",
       "      <td>2</td>\n",
       "      <td>9</td>\n",
       "      <td>[That's probably a good idea, maybe somebody else, likes it more than you do., So normally, when people trade, they have to go, to the store, or they have to know the person, so they can get what they asked for., With blockchain, you can make that exact same trade,, but you don't need the store, and you don't even, necessarily need to know the other person.]</td>\n",
       "      <td>[That's probably a good idea, maybe somebody else likes it more than you do., So normally, when people trade, they have to go to the store, or they have to know the person so they can get what they asked for., With blockchain, you can make that exact same trade, but you don't need the store, and you don't even necessarily need to know the other person.]</td>\n",
       "      <td>80</td>\n",
       "    </tr>\n",
       "  </tbody>\n",
       "</table>\n",
       "</div>"
      ],
      "text/plain": [
       "        topic                       youtube_link  \\\n",
       "1  blockchain  https://youtu.be/hYip_Vuv8J0?t=37   \n",
       "2  blockchain  https://youtu.be/hYip_Vuv8J0?t=37   \n",
       "3  blockchain  https://youtu.be/hYip_Vuv8J0?t=37   \n",
       "4  blockchain  https://youtu.be/hYip_Vuv8J0?t=37   \n",
       "5  blockchain  https://youtu.be/hYip_Vuv8J0?t=37   \n",
       "\n",
       "                                                                                           wired_link  \\\n",
       "1  https://www.wired.com/video/watch/expert-explains-one-concept-in-5-levels-of-difficulty-blockchain   \n",
       "2  https://www.wired.com/video/watch/expert-explains-one-concept-in-5-levels-of-difficulty-blockchain   \n",
       "3  https://www.wired.com/video/watch/expert-explains-one-concept-in-5-levels-of-difficulty-blockchain   \n",
       "4  https://www.wired.com/video/watch/expert-explains-one-concept-in-5-levels-of-difficulty-blockchain   \n",
       "5  https://www.wired.com/video/watch/expert-explains-one-concept-in-5-levels-of-difficulty-blockchain   \n",
       "\n",
       "  dialog_lvl     dialog_id  speaker_id  reciever_id  turn_id  \\\n",
       "1      child  blockchain_3           1            2        1   \n",
       "2      child  blockchain_3           1            2        3   \n",
       "3      child  blockchain_3           1            2        5   \n",
       "4      child  blockchain_3           1            2        7   \n",
       "5      child  blockchain_3           1            2        9   \n",
       "\n",
       "                                                                                                                                                                                                                                                                                                                                                                       turn  \\\n",
       "1                                                                                                                                                                                                                                                                                                 [Do you know what we're gonna talk about today?, It's called blockchain.]   \n",
       "2                                                                                                                                                                                                                                                                      [That's a really good question., It's actually a way that we can trade., Do you know what trade is?]   \n",
       "3                                                                                                                                         [When you give up most of what you want?, Well, sometimes that definitely happens for sure., What if I told you that this is the kind of technology, that I work on that means you could trade, with any kid all over the world?]   \n",
       "4                                                                                                                                                                                                                                                                                                                                                                   [Yeah.]   \n",
       "5  [That's probably a good idea, maybe somebody else, likes it more than you do., So normally, when people trade, they have to go, to the store, or they have to know the person, so they can get what they asked for., With blockchain, you can make that exact same trade,, but you don't need the store, and you don't even, necessarily need to know the other person.]   \n",
       "\n",
       "                                                                                                                                                                                                                                                                                                                                                        turn_sentences  \\\n",
       "1                                                                                                                                                                                                                                                                                            [Do you know what we're gonna talk about today?, It's called blockchain.]   \n",
       "2                                                                                                                                                                                                                                                                 [That's a really good question., It's actually a way that we can trade., Do you know what trade is?]   \n",
       "3                                                                                                                                      [When you give up most of what you want?, Well, sometimes that definitely happens for sure., What if I told you that this is the kind of technology that I work on that means you could trade with any kid all over the world?]   \n",
       "4                                                                                                                                                                                                                                                                                                                                                              [Yeah.]   \n",
       "5  [That's probably a good idea, maybe somebody else likes it more than you do., So normally, when people trade, they have to go to the store, or they have to know the person so they can get what they asked for., With blockchain, you can make that exact same trade, but you don't need the store, and you don't even necessarily need to know the other person.]   \n",
       "\n",
       "   turn_num_tokens  \n",
       "1               17  \n",
       "2               24  \n",
       "3               48  \n",
       "4                2  \n",
       "5               80  "
      ]
     },
     "execution_count": 46,
     "metadata": {},
     "output_type": "execute_result"
    }
   ],
   "source": [
    "dialogs_df.head()"
   ]
  },
  {
   "cell_type": "code",
   "execution_count": 47,
   "metadata": {},
   "outputs": [
    {
     "data": {
      "text/plain": [
       "1550"
      ]
     },
     "execution_count": 47,
     "metadata": {},
     "output_type": "execute_result"
    }
   ],
   "source": [
    "len(dialogs_df)"
   ]
  },
  {
   "cell_type": "code",
   "execution_count": 48,
   "metadata": {},
   "outputs": [],
   "source": [
    "num_turns_per_dialog = list(dialogs_df['dialog_id'].value_counts().values)"
   ]
  },
  {
   "cell_type": "code",
   "execution_count": 49,
   "metadata": {},
   "outputs": [
    {
     "name": "stdout",
     "output_type": "stream",
     "text": [
      "Number of Topics: 13\n",
      "Number of Turns: 1550\n",
      "Number of Dialogs: 65\n",
      "Average number of Turns per dialog: 23.8\n",
      "Average number of sents per dialog: 47\n",
      "Average number of Tokens per Turn 39\n"
     ]
    }
   ],
   "source": [
    "print('Number of Topics:', len(dialogs_df.value_counts('topic')))\n",
    "print('Number of Turns:', len(dialogs_df))\n",
    "print('Number of Dialogs:', len(dialogs_df.value_counts('dialog_id')))\n",
    "print('Average number of Turns per dialog:', round(np.mean(num_turns_per_dialog), 1))\n",
    "print('Average number of sents per dialog:', round(np.mean(dialog_sents_df['num_sents'].tolist())))\n",
    "print('Average number of Tokens per Turn', round(np.mean(dialogs_df['turn_num_tokens'].tolist())))"
   ]
  },
  {
   "cell_type": "code",
   "execution_count": 50,
   "metadata": {},
   "outputs": [
    {
     "data": {
      "image/png": "[encoded data removed]",
      "text/plain": [
       "<Figure size 720x360 with 1 Axes>"
      ]
     },
     "metadata": {
      "needs_background": "light"
     },
     "output_type": "display_data"
    }
   ],
   "source": [
    "plt.figure(figsize=(10,5))\n",
    "plt.hist(dialogs_df['dialog_id'].value_counts())\n",
    "#plt.xticks(range(0, 100, 20))\n",
    "plt.xlabel('Number of Turns')\n",
    "plt.ylabel('Number of Dialogs')\n",
    "plt.show()"
   ]
  },
  {
   "cell_type": "code",
   "execution_count": 51,
   "metadata": {},
   "outputs": [
    {
     "data": {
      "image/png": "[encoded data removed]",
      "text/plain": [
       "<Figure size 720x360 with 1 Axes>"
      ]
     },
     "metadata": {
      "needs_background": "light"
     },
     "output_type": "display_data"
    }
   ],
   "source": [
    "plt.figure(figsize=(10,5))\n",
    "plt.hist(dialog_sents_df['num_sents'].tolist())\n",
    "#plt.xticks(range(0, 40, 5))\n",
    "plt.xlabel('Number of Sentences')\n",
    "plt.ylabel('Number of Dialogs')\n",
    "plt.show()"
   ]
  },
  {
   "cell_type": "code",
   "execution_count": 33,
   "metadata": {},
   "outputs": [
    {
     "data": {
      "text/plain": [
       "1550"
      ]
     },
     "execution_count": 33,
     "metadata": {},
     "output_type": "execute_result"
    }
   ],
   "source": [
    "len(dialogs_df)"
   ]
  },
  {
   "cell_type": "code",
   "execution_count": 34,
   "metadata": {},
   "outputs": [
    {
     "data": {
      "text/plain": [
       "DescribeResult(nobs=1550, minmax=(2, 418), mean=39.25354838709677, variance=2975.341094566734, skewness=2.704096480777384, kurtosis=9.26015279247572)"
      ]
     },
     "execution_count": 34,
     "metadata": {},
     "output_type": "execute_result"
    }
   ],
   "source": [
    "stats.describe(dialogs_df['turn_num_tokens'])"
   ]
  },
  {
   "cell_type": "code",
   "execution_count": 35,
   "metadata": {},
   "outputs": [
    {
     "data": {
      "image/png": "[encoded data removed]",
      "text/plain": [
       "<Figure size 720x360 with 1 Axes>"
      ]
     },
     "metadata": {
      "needs_background": "light"
     },
     "output_type": "display_data"
    }
   ],
   "source": [
    "plt.figure(figsize=(10,5))\n",
    "plt.hist(dialogs_df['turn_num_tokens'], bins=range(10, 500, 10))\n",
    "#plt.xticks(range(0, 100, 20))\n",
    "plt.xlabel('Number of Tokens')\n",
    "plt.ylabel('Number of Turns')\n",
    "plt.show()"
   ]
  },
  {
   "cell_type": "code",
   "execution_count": 37,
   "metadata": {},
   "outputs": [
    {
     "data": {
      "text/plain": [
       "music_harmony_7      56\n",
       "dimensions_4         54\n",
       "dimensions_7         54\n",
       "dimensions_3         53\n",
       "sleep_scientist_3    49\n",
       "                     ..\n",
       "virtual_reality_6     8\n",
       "connectome_4          8\n",
       "virtual_reality_3     7\n",
       "blackhole_5           5\n",
       "virtual_reality_4     5\n",
       "Name: dialog_id, Length: 65, dtype: int64"
      ]
     },
     "execution_count": 37,
     "metadata": {},
     "output_type": "execute_result"
    }
   ],
   "source": [
    "dialogs_df.dialog_id.value_counts()"
   ]
  },
  {
   "cell_type": "code",
   "execution_count": null,
   "metadata": {},
   "outputs": [],
   "source": [
    "#.style.set_properties(**{'text-align': 'left'})"
   ]
  },
  {
   "cell_type": "code",
   "execution_count": 7,
   "metadata": {
    "scrolled": true,
    "tags": []
   },
   "outputs": [
    {
     "data": {
      "text/html": [
       "<style  type=\"text/css\" >\n",
       "#T_ea02698c_5c00_11ec_9d2d_3cecef0c4ef8row0_col0,#T_ea02698c_5c00_11ec_9d2d_3cecef0c4ef8row0_col1,#T_ea02698c_5c00_11ec_9d2d_3cecef0c4ef8row0_col2,#T_ea02698c_5c00_11ec_9d2d_3cecef0c4ef8row1_col0,#T_ea02698c_5c00_11ec_9d2d_3cecef0c4ef8row1_col1,#T_ea02698c_5c00_11ec_9d2d_3cecef0c4ef8row1_col2,#T_ea02698c_5c00_11ec_9d2d_3cecef0c4ef8row2_col0,#T_ea02698c_5c00_11ec_9d2d_3cecef0c4ef8row2_col1,#T_ea02698c_5c00_11ec_9d2d_3cecef0c4ef8row2_col2,#T_ea02698c_5c00_11ec_9d2d_3cecef0c4ef8row3_col0,#T_ea02698c_5c00_11ec_9d2d_3cecef0c4ef8row3_col1,#T_ea02698c_5c00_11ec_9d2d_3cecef0c4ef8row3_col2,#T_ea02698c_5c00_11ec_9d2d_3cecef0c4ef8row4_col0,#T_ea02698c_5c00_11ec_9d2d_3cecef0c4ef8row4_col1,#T_ea02698c_5c00_11ec_9d2d_3cecef0c4ef8row4_col2,#T_ea02698c_5c00_11ec_9d2d_3cecef0c4ef8row5_col0,#T_ea02698c_5c00_11ec_9d2d_3cecef0c4ef8row5_col1,#T_ea02698c_5c00_11ec_9d2d_3cecef0c4ef8row5_col2,#T_ea02698c_5c00_11ec_9d2d_3cecef0c4ef8row6_col0,#T_ea02698c_5c00_11ec_9d2d_3cecef0c4ef8row6_col1,#T_ea02698c_5c00_11ec_9d2d_3cecef0c4ef8row6_col2,#T_ea02698c_5c00_11ec_9d2d_3cecef0c4ef8row7_col0,#T_ea02698c_5c00_11ec_9d2d_3cecef0c4ef8row7_col1,#T_ea02698c_5c00_11ec_9d2d_3cecef0c4ef8row7_col2,#T_ea02698c_5c00_11ec_9d2d_3cecef0c4ef8row8_col0,#T_ea02698c_5c00_11ec_9d2d_3cecef0c4ef8row8_col1,#T_ea02698c_5c00_11ec_9d2d_3cecef0c4ef8row8_col2,#T_ea02698c_5c00_11ec_9d2d_3cecef0c4ef8row9_col0,#T_ea02698c_5c00_11ec_9d2d_3cecef0c4ef8row9_col1,#T_ea02698c_5c00_11ec_9d2d_3cecef0c4ef8row9_col2,#T_ea02698c_5c00_11ec_9d2d_3cecef0c4ef8row10_col0,#T_ea02698c_5c00_11ec_9d2d_3cecef0c4ef8row10_col1,#T_ea02698c_5c00_11ec_9d2d_3cecef0c4ef8row10_col2,#T_ea02698c_5c00_11ec_9d2d_3cecef0c4ef8row11_col0,#T_ea02698c_5c00_11ec_9d2d_3cecef0c4ef8row11_col1,#T_ea02698c_5c00_11ec_9d2d_3cecef0c4ef8row11_col2,#T_ea02698c_5c00_11ec_9d2d_3cecef0c4ef8row12_col0,#T_ea02698c_5c00_11ec_9d2d_3cecef0c4ef8row12_col1,#T_ea02698c_5c00_11ec_9d2d_3cecef0c4ef8row12_col2,#T_ea02698c_5c00_11ec_9d2d_3cecef0c4ef8row13_col0,#T_ea02698c_5c00_11ec_9d2d_3cecef0c4ef8row13_col1,#T_ea02698c_5c00_11ec_9d2d_3cecef0c4ef8row13_col2,#T_ea02698c_5c00_11ec_9d2d_3cecef0c4ef8row14_col0,#T_ea02698c_5c00_11ec_9d2d_3cecef0c4ef8row14_col1,#T_ea02698c_5c00_11ec_9d2d_3cecef0c4ef8row14_col2,#T_ea02698c_5c00_11ec_9d2d_3cecef0c4ef8row15_col0,#T_ea02698c_5c00_11ec_9d2d_3cecef0c4ef8row15_col1,#T_ea02698c_5c00_11ec_9d2d_3cecef0c4ef8row15_col2,#T_ea02698c_5c00_11ec_9d2d_3cecef0c4ef8row16_col0,#T_ea02698c_5c00_11ec_9d2d_3cecef0c4ef8row16_col1,#T_ea02698c_5c00_11ec_9d2d_3cecef0c4ef8row16_col2,#T_ea02698c_5c00_11ec_9d2d_3cecef0c4ef8row17_col0,#T_ea02698c_5c00_11ec_9d2d_3cecef0c4ef8row17_col1,#T_ea02698c_5c00_11ec_9d2d_3cecef0c4ef8row17_col2,#T_ea02698c_5c00_11ec_9d2d_3cecef0c4ef8row18_col0,#T_ea02698c_5c00_11ec_9d2d_3cecef0c4ef8row18_col1,#T_ea02698c_5c00_11ec_9d2d_3cecef0c4ef8row18_col2,#T_ea02698c_5c00_11ec_9d2d_3cecef0c4ef8row19_col0,#T_ea02698c_5c00_11ec_9d2d_3cecef0c4ef8row19_col1,#T_ea02698c_5c00_11ec_9d2d_3cecef0c4ef8row19_col2,#T_ea02698c_5c00_11ec_9d2d_3cecef0c4ef8row20_col0,#T_ea02698c_5c00_11ec_9d2d_3cecef0c4ef8row20_col1,#T_ea02698c_5c00_11ec_9d2d_3cecef0c4ef8row20_col2,#T_ea02698c_5c00_11ec_9d2d_3cecef0c4ef8row21_col0,#T_ea02698c_5c00_11ec_9d2d_3cecef0c4ef8row21_col1,#T_ea02698c_5c00_11ec_9d2d_3cecef0c4ef8row21_col2,#T_ea02698c_5c00_11ec_9d2d_3cecef0c4ef8row22_col0,#T_ea02698c_5c00_11ec_9d2d_3cecef0c4ef8row22_col1,#T_ea02698c_5c00_11ec_9d2d_3cecef0c4ef8row22_col2,#T_ea02698c_5c00_11ec_9d2d_3cecef0c4ef8row23_col0,#T_ea02698c_5c00_11ec_9d2d_3cecef0c4ef8row23_col1,#T_ea02698c_5c00_11ec_9d2d_3cecef0c4ef8row23_col2,#T_ea02698c_5c00_11ec_9d2d_3cecef0c4ef8row24_col0,#T_ea02698c_5c00_11ec_9d2d_3cecef0c4ef8row24_col1,#T_ea02698c_5c00_11ec_9d2d_3cecef0c4ef8row24_col2,#T_ea02698c_5c00_11ec_9d2d_3cecef0c4ef8row25_col0,#T_ea02698c_5c00_11ec_9d2d_3cecef0c4ef8row25_col1,#T_ea02698c_5c00_11ec_9d2d_3cecef0c4ef8row25_col2,#T_ea02698c_5c00_11ec_9d2d_3cecef0c4ef8row26_col0,#T_ea02698c_5c00_11ec_9d2d_3cecef0c4ef8row26_col1,#T_ea02698c_5c00_11ec_9d2d_3cecef0c4ef8row26_col2,#T_ea02698c_5c00_11ec_9d2d_3cecef0c4ef8row27_col0,#T_ea02698c_5c00_11ec_9d2d_3cecef0c4ef8row27_col1,#T_ea02698c_5c00_11ec_9d2d_3cecef0c4ef8row27_col2,#T_ea02698c_5c00_11ec_9d2d_3cecef0c4ef8row28_col0,#T_ea02698c_5c00_11ec_9d2d_3cecef0c4ef8row28_col1,#T_ea02698c_5c00_11ec_9d2d_3cecef0c4ef8row28_col2,#T_ea02698c_5c00_11ec_9d2d_3cecef0c4ef8row29_col0,#T_ea02698c_5c00_11ec_9d2d_3cecef0c4ef8row29_col1,#T_ea02698c_5c00_11ec_9d2d_3cecef0c4ef8row29_col2{\n",
       "            text-align:  left;\n",
       "        }</style><table id=\"T_ea02698c_5c00_11ec_9d2d_3cecef0c4ef8\" ><thead>    <tr>        <th class=\"blank level0\" ></th>        <th class=\"col_heading level0 col0\" >turn_id</th>        <th class=\"col_heading level0 col1\" >dialog_lvl</th>        <th class=\"col_heading level0 col2\" >turn</th>    </tr></thead><tbody>\n",
       "                <tr>\n",
       "                        <th id=\"T_ea02698c_5c00_11ec_9d2d_3cecef0c4ef8level0_row0\" class=\"row_heading level0 row0\" >715</th>\n",
       "                        <td id=\"T_ea02698c_5c00_11ec_9d2d_3cecef0c4ef8row0_col0\" class=\"data row0 col0\" >1</td>\n",
       "                        <td id=\"T_ea02698c_5c00_11ec_9d2d_3cecef0c4ef8row0_col1\" class=\"data row0 col1\" >child</td>\n",
       "                        <td id=\"T_ea02698c_5c00_11ec_9d2d_3cecef0c4ef8row0_col2\" class=\"data row0 col2\" >['So have you ever heard of something called a black hole?']</td>\n",
       "            </tr>\n",
       "            <tr>\n",
       "                        <th id=\"T_ea02698c_5c00_11ec_9d2d_3cecef0c4ef8level0_row1\" class=\"row_heading level0 row1\" >751</th>\n",
       "                        <td id=\"T_ea02698c_5c00_11ec_9d2d_3cecef0c4ef8row1_col0\" class=\"data row1 col0\" >2</td>\n",
       "                        <td id=\"T_ea02698c_5c00_11ec_9d2d_3cecef0c4ef8row1_col1\" class=\"data row1 col1\" >child</td>\n",
       "                        <td id=\"T_ea02698c_5c00_11ec_9d2d_3cecef0c4ef8row1_col2\" class=\"data row1 col2\" >['What is a black hole?']</td>\n",
       "            </tr>\n",
       "            <tr>\n",
       "                        <th id=\"T_ea02698c_5c00_11ec_9d2d_3cecef0c4ef8level0_row2\" class=\"row_heading level0 row2\" >716</th>\n",
       "                        <td id=\"T_ea02698c_5c00_11ec_9d2d_3cecef0c4ef8row2_col0\" class=\"data row2 col0\" >3</td>\n",
       "                        <td id=\"T_ea02698c_5c00_11ec_9d2d_3cecef0c4ef8row2_col1\" class=\"data row2 col1\" >child</td>\n",
       "                        <td id=\"T_ea02698c_5c00_11ec_9d2d_3cecef0c4ef8row2_col2\" class=\"data row2 col2\" >['Well, it has to do with, a lot with gravity,', 'do you know what gravity is?']</td>\n",
       "            </tr>\n",
       "            <tr>\n",
       "                        <th id=\"T_ea02698c_5c00_11ec_9d2d_3cecef0c4ef8level0_row3\" class=\"row_heading level0 row3\" >752</th>\n",
       "                        <td id=\"T_ea02698c_5c00_11ec_9d2d_3cecef0c4ef8row3_col0\" class=\"data row3 col0\" >4</td>\n",
       "                        <td id=\"T_ea02698c_5c00_11ec_9d2d_3cecef0c4ef8row3_col1\" class=\"data row3 col1\" >child</td>\n",
       "                        <td id=\"T_ea02698c_5c00_11ec_9d2d_3cecef0c4ef8row3_col2\" class=\"data row3 col2\" >['No, not at all.']</td>\n",
       "            </tr>\n",
       "            <tr>\n",
       "                        <th id=\"T_ea02698c_5c00_11ec_9d2d_3cecef0c4ef8level0_row4\" class=\"row_heading level0 row4\" >717</th>\n",
       "                        <td id=\"T_ea02698c_5c00_11ec_9d2d_3cecef0c4ef8row4_col0\" class=\"data row4 col0\" >5</td>\n",
       "                        <td id=\"T_ea02698c_5c00_11ec_9d2d_3cecef0c4ef8row4_col1\" class=\"data row4 col1\" >child</td>\n",
       "                        <td id=\"T_ea02698c_5c00_11ec_9d2d_3cecef0c4ef8row4_col2\" class=\"data row4 col2\" >[\"It's what keeps us on the earth.\"]</td>\n",
       "            </tr>\n",
       "            <tr>\n",
       "                        <th id=\"T_ea02698c_5c00_11ec_9d2d_3cecef0c4ef8level0_row5\" class=\"row_heading level0 row5\" >753</th>\n",
       "                        <td id=\"T_ea02698c_5c00_11ec_9d2d_3cecef0c4ef8row5_col0\" class=\"data row5 col0\" >6</td>\n",
       "                        <td id=\"T_ea02698c_5c00_11ec_9d2d_3cecef0c4ef8row5_col1\" class=\"data row5 col1\" >child</td>\n",
       "                        <td id=\"T_ea02698c_5c00_11ec_9d2d_3cecef0c4ef8row5_col2\" class=\"data row5 col2\" >['What?']</td>\n",
       "            </tr>\n",
       "            <tr>\n",
       "                        <th id=\"T_ea02698c_5c00_11ec_9d2d_3cecef0c4ef8level0_row6\" class=\"row_heading level0 row6\" >718</th>\n",
       "                        <td id=\"T_ea02698c_5c00_11ec_9d2d_3cecef0c4ef8row6_col0\" class=\"data row6 col0\" >7</td>\n",
       "                        <td id=\"T_ea02698c_5c00_11ec_9d2d_3cecef0c4ef8row6_col1\" class=\"data row6 col1\" >child</td>\n",
       "                        <td id=\"T_ea02698c_5c00_11ec_9d2d_3cecef0c4ef8row6_col2\" class=\"data row6 col2\" >[\"The reason we're not just flying off the earth is\", 'because earth has gravity, so if we throw something up,', \"it comes back down, so that's why\", \"when we're walking on the earth,\", \"we don't fly off the earth because the earth has gravity,\", 'and it keeps us down.']</td>\n",
       "            </tr>\n",
       "            <tr>\n",
       "                        <th id=\"T_ea02698c_5c00_11ec_9d2d_3cecef0c4ef8level0_row7\" class=\"row_heading level0 row7\" >754</th>\n",
       "                        <td id=\"T_ea02698c_5c00_11ec_9d2d_3cecef0c4ef8row7_col0\" class=\"data row7 col0\" >8</td>\n",
       "                        <td id=\"T_ea02698c_5c00_11ec_9d2d_3cecef0c4ef8row7_col1\" class=\"data row7 col1\" >child</td>\n",
       "                        <td id=\"T_ea02698c_5c00_11ec_9d2d_3cecef0c4ef8row7_col2\" class=\"data row7 col2\" >['Nice.']</td>\n",
       "            </tr>\n",
       "            <tr>\n",
       "                        <th id=\"T_ea02698c_5c00_11ec_9d2d_3cecef0c4ef8level0_row8\" class=\"row_heading level0 row8\" >719</th>\n",
       "                        <td id=\"T_ea02698c_5c00_11ec_9d2d_3cecef0c4ef8row8_col0\" class=\"data row8 col0\" >9</td>\n",
       "                        <td id=\"T_ea02698c_5c00_11ec_9d2d_3cecef0c4ef8row8_col1\" class=\"data row8 col1\" >child</td>\n",
       "                        <td id=\"T_ea02698c_5c00_11ec_9d2d_3cecef0c4ef8row8_col2\" class=\"data row8 col2\" >['The main thing about black hole to remember is', \"that it's just, like I said, how the earth holds you down,\", 'the black hole pulls you in, as well.', 'Now, try and take the ball from me, black hole--']</td>\n",
       "            </tr>\n",
       "            <tr>\n",
       "                        <th id=\"T_ea02698c_5c00_11ec_9d2d_3cecef0c4ef8level0_row9\" class=\"row_heading level0 row9\" >755</th>\n",
       "                        <td id=\"T_ea02698c_5c00_11ec_9d2d_3cecef0c4ef8row9_col0\" class=\"data row9 col0\" >10</td>\n",
       "                        <td id=\"T_ea02698c_5c00_11ec_9d2d_3cecef0c4ef8row9_col1\" class=\"data row9 col1\" >child</td>\n",
       "                        <td id=\"T_ea02698c_5c00_11ec_9d2d_3cecef0c4ef8row9_col2\" class=\"data row9 col2\" >['Why do you hold it so tight?']</td>\n",
       "            </tr>\n",
       "            <tr>\n",
       "                        <th id=\"T_ea02698c_5c00_11ec_9d2d_3cecef0c4ef8level0_row10\" class=\"row_heading level0 row10\" >720</th>\n",
       "                        <td id=\"T_ea02698c_5c00_11ec_9d2d_3cecef0c4ef8row10_col0\" class=\"data row10 col0\" >11</td>\n",
       "                        <td id=\"T_ea02698c_5c00_11ec_9d2d_3cecef0c4ef8row10_col1\" class=\"data row10 col1\" >child</td>\n",
       "                        <td id=\"T_ea02698c_5c00_11ec_9d2d_3cecef0c4ef8row10_col2\" class=\"data row10 col2\" >[\"I'm holding it tight to show you\", \"then when you're trying to pull it,\", 'a black hole will really hold onto it with its gravity.']</td>\n",
       "            </tr>\n",
       "            <tr>\n",
       "                        <th id=\"T_ea02698c_5c00_11ec_9d2d_3cecef0c4ef8level0_row11\" class=\"row_heading level0 row11\" >756</th>\n",
       "                        <td id=\"T_ea02698c_5c00_11ec_9d2d_3cecef0c4ef8row11_col0\" class=\"data row11 col0\" >12</td>\n",
       "                        <td id=\"T_ea02698c_5c00_11ec_9d2d_3cecef0c4ef8row11_col1\" class=\"data row11 col1\" >child</td>\n",
       "                        <td id=\"T_ea02698c_5c00_11ec_9d2d_3cecef0c4ef8row11_col2\" class=\"data row11 col2\" >['I got it.']</td>\n",
       "            </tr>\n",
       "            <tr>\n",
       "                        <th id=\"T_ea02698c_5c00_11ec_9d2d_3cecef0c4ef8level0_row12\" class=\"row_heading level0 row12\" >721</th>\n",
       "                        <td id=\"T_ea02698c_5c00_11ec_9d2d_3cecef0c4ef8row12_col0\" class=\"data row12 col0\" >13</td>\n",
       "                        <td id=\"T_ea02698c_5c00_11ec_9d2d_3cecef0c4ef8row12_col1\" class=\"data row12 col1\" >child</td>\n",
       "                        <td id=\"T_ea02698c_5c00_11ec_9d2d_3cecef0c4ef8row12_col2\" class=\"data row12 col2\" >['Yeah.', 'The main thing is that if something falls', \"into a black hole, it can never get out, it's--\"]</td>\n",
       "            </tr>\n",
       "            <tr>\n",
       "                        <th id=\"T_ea02698c_5c00_11ec_9d2d_3cecef0c4ef8level0_row13\" class=\"row_heading level0 row13\" >757</th>\n",
       "                        <td id=\"T_ea02698c_5c00_11ec_9d2d_3cecef0c4ef8row13_col0\" class=\"data row13 col0\" >14</td>\n",
       "                        <td id=\"T_ea02698c_5c00_11ec_9d2d_3cecef0c4ef8row13_col1\" class=\"data row13 col1\" >child</td>\n",
       "                        <td id=\"T_ea02698c_5c00_11ec_9d2d_3cecef0c4ef8row13_col2\" class=\"data row13 col2\" >['What about the earth? What if it rolls into it--']</td>\n",
       "            </tr>\n",
       "            <tr>\n",
       "                        <th id=\"T_ea02698c_5c00_11ec_9d2d_3cecef0c4ef8level0_row14\" class=\"row_heading level0 row14\" >722</th>\n",
       "                        <td id=\"T_ea02698c_5c00_11ec_9d2d_3cecef0c4ef8row14_col0\" class=\"data row14 col0\" >15</td>\n",
       "                        <td id=\"T_ea02698c_5c00_11ec_9d2d_3cecef0c4ef8row14_col1\" class=\"data row14 col1\" >child</td>\n",
       "                        <td id=\"T_ea02698c_5c00_11ec_9d2d_3cecef0c4ef8row14_col2\" class=\"data row14 col2\" >['Oh, if the earth rolls into it?']</td>\n",
       "            </tr>\n",
       "            <tr>\n",
       "                        <th id=\"T_ea02698c_5c00_11ec_9d2d_3cecef0c4ef8level0_row15\" class=\"row_heading level0 row15\" >758</th>\n",
       "                        <td id=\"T_ea02698c_5c00_11ec_9d2d_3cecef0c4ef8row15_col0\" class=\"data row15 col0\" >16</td>\n",
       "                        <td id=\"T_ea02698c_5c00_11ec_9d2d_3cecef0c4ef8row15_col1\" class=\"data row15 col1\" >child</td>\n",
       "                        <td id=\"T_ea02698c_5c00_11ec_9d2d_3cecef0c4ef8row15_col2\" class=\"data row15 col2\" >['Yeah.']</td>\n",
       "            </tr>\n",
       "            <tr>\n",
       "                        <th id=\"T_ea02698c_5c00_11ec_9d2d_3cecef0c4ef8level0_row16\" class=\"row_heading level0 row16\" >723</th>\n",
       "                        <td id=\"T_ea02698c_5c00_11ec_9d2d_3cecef0c4ef8row16_col0\" class=\"data row16 col0\" >17</td>\n",
       "                        <td id=\"T_ea02698c_5c00_11ec_9d2d_3cecef0c4ef8row16_col1\" class=\"data row16 col1\" >child</td>\n",
       "                        <td id=\"T_ea02698c_5c00_11ec_9d2d_3cecef0c4ef8row16_col2\" class=\"data row16 col2\" >[\"It would be bad, we wouldn't be able to get out.\"]</td>\n",
       "            </tr>\n",
       "            <tr>\n",
       "                        <th id=\"T_ea02698c_5c00_11ec_9d2d_3cecef0c4ef8level0_row17\" class=\"row_heading level0 row17\" >759</th>\n",
       "                        <td id=\"T_ea02698c_5c00_11ec_9d2d_3cecef0c4ef8row17_col0\" class=\"data row17 col0\" >18</td>\n",
       "                        <td id=\"T_ea02698c_5c00_11ec_9d2d_3cecef0c4ef8row17_col1\" class=\"data row17 col1\" >child</td>\n",
       "                        <td id=\"T_ea02698c_5c00_11ec_9d2d_3cecef0c4ef8row17_col2\" class=\"data row17 col2\" >['So it could never happen?']</td>\n",
       "            </tr>\n",
       "            <tr>\n",
       "                        <th id=\"T_ea02698c_5c00_11ec_9d2d_3cecef0c4ef8level0_row18\" class=\"row_heading level0 row18\" >724</th>\n",
       "                        <td id=\"T_ea02698c_5c00_11ec_9d2d_3cecef0c4ef8row18_col0\" class=\"data row18 col0\" >19</td>\n",
       "                        <td id=\"T_ea02698c_5c00_11ec_9d2d_3cecef0c4ef8row18_col1\" class=\"data row18 col1\" >child</td>\n",
       "                        <td id=\"T_ea02698c_5c00_11ec_9d2d_3cecef0c4ef8row18_col2\" class=\"data row18 col2\" >[\"It's never, not likely to happen, no.\"]</td>\n",
       "            </tr>\n",
       "            <tr>\n",
       "                        <th id=\"T_ea02698c_5c00_11ec_9d2d_3cecef0c4ef8level0_row19\" class=\"row_heading level0 row19\" >760</th>\n",
       "                        <td id=\"T_ea02698c_5c00_11ec_9d2d_3cecef0c4ef8row19_col0\" class=\"data row19 col0\" >20</td>\n",
       "                        <td id=\"T_ea02698c_5c00_11ec_9d2d_3cecef0c4ef8row19_col1\" class=\"data row19 col1\" >child</td>\n",
       "                        <td id=\"T_ea02698c_5c00_11ec_9d2d_3cecef0c4ef8row19_col2\" class=\"data row19 col2\" >['Only in movies, right?']</td>\n",
       "            </tr>\n",
       "            <tr>\n",
       "                        <th id=\"T_ea02698c_5c00_11ec_9d2d_3cecef0c4ef8level0_row20\" class=\"row_heading level0 row20\" >725</th>\n",
       "                        <td id=\"T_ea02698c_5c00_11ec_9d2d_3cecef0c4ef8row20_col0\" class=\"data row20 col0\" >21</td>\n",
       "                        <td id=\"T_ea02698c_5c00_11ec_9d2d_3cecef0c4ef8row20_col1\" class=\"data row20 col1\" >child</td>\n",
       "                        <td id=\"T_ea02698c_5c00_11ec_9d2d_3cecef0c4ef8row20_col2\" class=\"data row20 col2\" >['Well, yeah, definitely in movies, yeah.']</td>\n",
       "            </tr>\n",
       "            <tr>\n",
       "                        <th id=\"T_ea02698c_5c00_11ec_9d2d_3cecef0c4ef8level0_row21\" class=\"row_heading level0 row21\" >761</th>\n",
       "                        <td id=\"T_ea02698c_5c00_11ec_9d2d_3cecef0c4ef8row21_col0\" class=\"data row21 col0\" >22</td>\n",
       "                        <td id=\"T_ea02698c_5c00_11ec_9d2d_3cecef0c4ef8row21_col1\" class=\"data row21 col1\" >child</td>\n",
       "                        <td id=\"T_ea02698c_5c00_11ec_9d2d_3cecef0c4ef8row21_col2\" class=\"data row21 col2\" >[\"Yeah, but it's not real because it's just pictures of it.\"]</td>\n",
       "            </tr>\n",
       "            <tr>\n",
       "                        <th id=\"T_ea02698c_5c00_11ec_9d2d_3cecef0c4ef8level0_row22\" class=\"row_heading level0 row22\" >726</th>\n",
       "                        <td id=\"T_ea02698c_5c00_11ec_9d2d_3cecef0c4ef8row22_col0\" class=\"data row22 col0\" >23</td>\n",
       "                        <td id=\"T_ea02698c_5c00_11ec_9d2d_3cecef0c4ef8row22_col1\" class=\"data row22 col1\" >child</td>\n",
       "                        <td id=\"T_ea02698c_5c00_11ec_9d2d_3cecef0c4ef8row22_col2\" class=\"data row22 col2\" >['Yeah, exactly.']</td>\n",
       "            </tr>\n",
       "            <tr>\n",
       "                        <th id=\"T_ea02698c_5c00_11ec_9d2d_3cecef0c4ef8level0_row23\" class=\"row_heading level0 row23\" >762</th>\n",
       "                        <td id=\"T_ea02698c_5c00_11ec_9d2d_3cecef0c4ef8row23_col0\" class=\"data row23 col0\" >24</td>\n",
       "                        <td id=\"T_ea02698c_5c00_11ec_9d2d_3cecef0c4ef8row23_col1\" class=\"data row23 col1\" >child</td>\n",
       "                        <td id=\"T_ea02698c_5c00_11ec_9d2d_3cecef0c4ef8row23_col2\" class=\"data row23 col2\" >['What if I went in there?']</td>\n",
       "            </tr>\n",
       "            <tr>\n",
       "                        <th id=\"T_ea02698c_5c00_11ec_9d2d_3cecef0c4ef8level0_row24\" class=\"row_heading level0 row24\" >727</th>\n",
       "                        <td id=\"T_ea02698c_5c00_11ec_9d2d_3cecef0c4ef8row24_col0\" class=\"data row24 col0\" >25</td>\n",
       "                        <td id=\"T_ea02698c_5c00_11ec_9d2d_3cecef0c4ef8row24_col1\" class=\"data row24 col1\" >child</td>\n",
       "                        <td id=\"T_ea02698c_5c00_11ec_9d2d_3cecef0c4ef8row24_col2\" class=\"data row24 col2\" >['The black hole will sort', \"of stretch you out as you're falling in.\"]</td>\n",
       "            </tr>\n",
       "            <tr>\n",
       "                        <th id=\"T_ea02698c_5c00_11ec_9d2d_3cecef0c4ef8level0_row25\" class=\"row_heading level0 row25\" >763</th>\n",
       "                        <td id=\"T_ea02698c_5c00_11ec_9d2d_3cecef0c4ef8row25_col0\" class=\"data row25 col0\" >26</td>\n",
       "                        <td id=\"T_ea02698c_5c00_11ec_9d2d_3cecef0c4ef8row25_col1\" class=\"data row25 col1\" >child</td>\n",
       "                        <td id=\"T_ea02698c_5c00_11ec_9d2d_3cecef0c4ef8row25_col2\" class=\"data row25 col2\" >[\"It'll, like, stretch my body out?\"]</td>\n",
       "            </tr>\n",
       "            <tr>\n",
       "                        <th id=\"T_ea02698c_5c00_11ec_9d2d_3cecef0c4ef8level0_row26\" class=\"row_heading level0 row26\" >728</th>\n",
       "                        <td id=\"T_ea02698c_5c00_11ec_9d2d_3cecef0c4ef8row26_col0\" class=\"data row26 col0\" >27</td>\n",
       "                        <td id=\"T_ea02698c_5c00_11ec_9d2d_3cecef0c4ef8row26_col1\" class=\"data row26 col1\" >child</td>\n",
       "                        <td id=\"T_ea02698c_5c00_11ec_9d2d_3cecef0c4ef8row26_col2\" class=\"data row26 col2\" >['Yeah.']</td>\n",
       "            </tr>\n",
       "            <tr>\n",
       "                        <th id=\"T_ea02698c_5c00_11ec_9d2d_3cecef0c4ef8level0_row27\" class=\"row_heading level0 row27\" >764</th>\n",
       "                        <td id=\"T_ea02698c_5c00_11ec_9d2d_3cecef0c4ef8row27_col0\" class=\"data row27 col0\" >28</td>\n",
       "                        <td id=\"T_ea02698c_5c00_11ec_9d2d_3cecef0c4ef8row27_col1\" class=\"data row27 col1\" >child</td>\n",
       "                        <td id=\"T_ea02698c_5c00_11ec_9d2d_3cecef0c4ef8row27_col2\" class=\"data row27 col2\" >['What?']</td>\n",
       "            </tr>\n",
       "            <tr>\n",
       "                        <th id=\"T_ea02698c_5c00_11ec_9d2d_3cecef0c4ef8level0_row28\" class=\"row_heading level0 row28\" >729</th>\n",
       "                        <td id=\"T_ea02698c_5c00_11ec_9d2d_3cecef0c4ef8row28_col0\" class=\"data row28 col0\" >29</td>\n",
       "                        <td id=\"T_ea02698c_5c00_11ec_9d2d_3cecef0c4ef8row28_col1\" class=\"data row28 col1\" >child</td>\n",
       "                        <td id=\"T_ea02698c_5c00_11ec_9d2d_3cecef0c4ef8row28_col2\" class=\"data row28 col2\" >['So what do you think about black holes?']</td>\n",
       "            </tr>\n",
       "            <tr>\n",
       "                        <th id=\"T_ea02698c_5c00_11ec_9d2d_3cecef0c4ef8level0_row29\" class=\"row_heading level0 row29\" >765</th>\n",
       "                        <td id=\"T_ea02698c_5c00_11ec_9d2d_3cecef0c4ef8row29_col0\" class=\"data row29 col0\" >30</td>\n",
       "                        <td id=\"T_ea02698c_5c00_11ec_9d2d_3cecef0c4ef8row29_col1\" class=\"data row29 col1\" >child</td>\n",
       "                        <td id=\"T_ea02698c_5c00_11ec_9d2d_3cecef0c4ef8row29_col2\" class=\"data row29 col2\" >[\"It's kind of dangerous.\"]</td>\n",
       "            </tr>\n",
       "    </tbody></table>"
      ],
      "text/plain": [
       "<pandas.io.formats.style.Styler at 0x7f34a822da58>"
      ]
     },
     "execution_count": 7,
     "metadata": {},
     "output_type": "execute_result"
    }
   ],
   "source": [
    "dialogs_df[dialogs_df.dialog_id=='blackhole_3'].sort_values('turn_id')[['turn_id', 'dialog_lvl', 'turn']].style.set_properties(**{'text-align': 'left'})"
   ]
  },
  {
   "cell_type": "markdown",
   "metadata": {},
   "source": [
    "### Prepare the data for the annotation:"
   ]
  },
  {
   "cell_type": "markdown",
   "metadata": {},
   "source": [
    "Generate a task file for each of the dialogs, containing speaker-role (Explainer/Explainee), turn-id, list of segments"
   ]
  },
  {
   "cell_type": "code",
   "execution_count": 3,
   "metadata": {
    "scrolled": true,
    "tags": []
   },
   "outputs": [
    {
     "data": {
      "text/html": [
       "<div>\n",
       "<style scoped>\n",
       "    .dataframe tbody tr th:only-of-type {\n",
       "        vertical-align: middle;\n",
       "    }\n",
       "\n",
       "    .dataframe tbody tr th {\n",
       "        vertical-align: top;\n",
       "    }\n",
       "\n",
       "    .dataframe thead th {\n",
       "        text-align: right;\n",
       "    }\n",
       "</style>\n",
       "<table border=\"1\" class=\"dataframe\">\n",
       "  <thead>\n",
       "    <tr style=\"text-align: right;\">\n",
       "      <th></th>\n",
       "      <th>topic</th>\n",
       "      <th>youtube_link</th>\n",
       "      <th>wired_link</th>\n",
       "      <th>dialog_lvl</th>\n",
       "      <th>dialog_id</th>\n",
       "      <th>speaker_id</th>\n",
       "      <th>reciever_id</th>\n",
       "      <th>turn_id</th>\n",
       "      <th>turn</th>\n",
       "      <th>turn_sentences</th>\n",
       "      <th>turn_num_tokens</th>\n",
       "    </tr>\n",
       "  </thead>\n",
       "  <tbody>\n",
       "    <tr>\n",
       "      <th>0</th>\n",
       "      <td>blockchain</td>\n",
       "      <td>https://youtu.be/hYip_Vuv8J0</td>\n",
       "      <td>https://www.wired.com/video/watch/expert-explains-one-concept-in-5-levels-of-difficulty-blockchain</td>\n",
       "      <td>self</td>\n",
       "      <td>blockchain_2</td>\n",
       "      <td>1</td>\n",
       "      <td>1</td>\n",
       "      <td>1</td>\n",
       "      <td>[My name is Bettina Warburg., I'm a researcher of transformative technologies, and co-founder of Animal Ventures., Today, I've been challenged to explain, one concept at five levels of increasing complexity., My topic is blockchain technology., Blockchain is a new network, and it's going to help us, decentralize trade, allowing us to do a lot, of our transactions much more peer to peer directly, and lower our use of intermediaries, like companies or banks maybe., I think today everyone can leave understanding, something about blockchain at some level.]</td>\n",
       "      <td>[My name is Bettina Warburg., I'm a researcher of transformative technologies and co-founder of Animal Ventures., Today, I've been challenged to explain one concept at five levels of increasing complexity., My topic is blockchain technology., Blockchain is a new network, and it's going to help us decentralize trade, allowing us to do a lot of our transactions much more peer to peer directly and lower our use of intermediaries like companies or banks maybe., I think today everyone can leave understanding something about blockchain at some level.]</td>\n",
       "      <td>99</td>\n",
       "    </tr>\n",
       "    <tr>\n",
       "      <th>1</th>\n",
       "      <td>blockchain</td>\n",
       "      <td>https://youtu.be/hYip_Vuv8J0?t=37</td>\n",
       "      <td>https://www.wired.com/video/watch/expert-explains-one-concept-in-5-levels-of-difficulty-blockchain</td>\n",
       "      <td>child</td>\n",
       "      <td>blockchain_3</td>\n",
       "      <td>1</td>\n",
       "      <td>2</td>\n",
       "      <td>1</td>\n",
       "      <td>[Do you know what we're gonna talk about today?, It's called blockchain.]</td>\n",
       "      <td>[Do you know what we're gonna talk about today?, It's called blockchain.]</td>\n",
       "      <td>17</td>\n",
       "    </tr>\n",
       "    <tr>\n",
       "      <th>2</th>\n",
       "      <td>blockchain</td>\n",
       "      <td>https://youtu.be/hYip_Vuv8J0?t=37</td>\n",
       "      <td>https://www.wired.com/video/watch/expert-explains-one-concept-in-5-levels-of-difficulty-blockchain</td>\n",
       "      <td>child</td>\n",
       "      <td>blockchain_3</td>\n",
       "      <td>1</td>\n",
       "      <td>2</td>\n",
       "      <td>3</td>\n",
       "      <td>[That's a really good question., It's actually a way that we can trade., Do you know what trade is?]</td>\n",
       "      <td>[That's a really good question., It's actually a way that we can trade., Do you know what trade is?]</td>\n",
       "      <td>24</td>\n",
       "    </tr>\n",
       "    <tr>\n",
       "      <th>3</th>\n",
       "      <td>blockchain</td>\n",
       "      <td>https://youtu.be/hYip_Vuv8J0?t=37</td>\n",
       "      <td>https://www.wired.com/video/watch/expert-explains-one-concept-in-5-levels-of-difficulty-blockchain</td>\n",
       "      <td>child</td>\n",
       "      <td>blockchain_3</td>\n",
       "      <td>1</td>\n",
       "      <td>2</td>\n",
       "      <td>5</td>\n",
       "      <td>[When you give up most of what you want?, Well, sometimes that definitely happens for sure., What if I told you that this is the kind of technology, that I work on that means you could trade, with any kid all over the world?]</td>\n",
       "      <td>[When you give up most of what you want?, Well, sometimes that definitely happens for sure., What if I told you that this is the kind of technology that I work on that means you could trade with any kid all over the world?]</td>\n",
       "      <td>48</td>\n",
       "    </tr>\n",
       "    <tr>\n",
       "      <th>4</th>\n",
       "      <td>blockchain</td>\n",
       "      <td>https://youtu.be/hYip_Vuv8J0?t=37</td>\n",
       "      <td>https://www.wired.com/video/watch/expert-explains-one-concept-in-5-levels-of-difficulty-blockchain</td>\n",
       "      <td>child</td>\n",
       "      <td>blockchain_3</td>\n",
       "      <td>1</td>\n",
       "      <td>2</td>\n",
       "      <td>7</td>\n",
       "      <td>[Yeah.]</td>\n",
       "      <td>[Yeah.]</td>\n",
       "      <td>2</td>\n",
       "    </tr>\n",
       "  </tbody>\n",
       "</table>\n",
       "</div>"
      ],
      "text/plain": [
       "        topic                       youtube_link  \\\n",
       "0  blockchain       https://youtu.be/hYip_Vuv8J0   \n",
       "1  blockchain  https://youtu.be/hYip_Vuv8J0?t=37   \n",
       "2  blockchain  https://youtu.be/hYip_Vuv8J0?t=37   \n",
       "3  blockchain  https://youtu.be/hYip_Vuv8J0?t=37   \n",
       "4  blockchain  https://youtu.be/hYip_Vuv8J0?t=37   \n",
       "\n",
       "                                                                                           wired_link  \\\n",
       "0  https://www.wired.com/video/watch/expert-explains-one-concept-in-5-levels-of-difficulty-blockchain   \n",
       "1  https://www.wired.com/video/watch/expert-explains-one-concept-in-5-levels-of-difficulty-blockchain   \n",
       "2  https://www.wired.com/video/watch/expert-explains-one-concept-in-5-levels-of-difficulty-blockchain   \n",
       "3  https://www.wired.com/video/watch/expert-explains-one-concept-in-5-levels-of-difficulty-blockchain   \n",
       "4  https://www.wired.com/video/watch/expert-explains-one-concept-in-5-levels-of-difficulty-blockchain   \n",
       "\n",
       "  dialog_lvl     dialog_id  speaker_id  reciever_id  turn_id  \\\n",
       "0       self  blockchain_2           1            1        1   \n",
       "1      child  blockchain_3           1            2        1   \n",
       "2      child  blockchain_3           1            2        3   \n",
       "3      child  blockchain_3           1            2        5   \n",
       "4      child  blockchain_3           1            2        7   \n",
       "\n",
       "                                                                                                                                                                                                                                                                                                                                                                                                                                                                                                                                                                             turn  \\\n",
       "0  [My name is Bettina Warburg., I'm a researcher of transformative technologies, and co-founder of Animal Ventures., Today, I've been challenged to explain, one concept at five levels of increasing complexity., My topic is blockchain technology., Blockchain is a new network, and it's going to help us, decentralize trade, allowing us to do a lot, of our transactions much more peer to peer directly, and lower our use of intermediaries, like companies or banks maybe., I think today everyone can leave understanding, something about blockchain at some level.]   \n",
       "1                                                                                                                                                                                                                                                                                                                                                                                                                                                                                                       [Do you know what we're gonna talk about today?, It's called blockchain.]   \n",
       "2                                                                                                                                                                                                                                                                                                                                                                                                                                                                            [That's a really good question., It's actually a way that we can trade., Do you know what trade is?]   \n",
       "3                                                                                                                                                                                                                                                                                                                                               [When you give up most of what you want?, Well, sometimes that definitely happens for sure., What if I told you that this is the kind of technology, that I work on that means you could trade, with any kid all over the world?]   \n",
       "4                                                                                                                                                                                                                                                                                                                                                                                                                                                                                                                                                                         [Yeah.]   \n",
       "\n",
       "                                                                                                                                                                                                                                                                                                                                                                                                                                                                                                                                                            turn_sentences  \\\n",
       "0  [My name is Bettina Warburg., I'm a researcher of transformative technologies and co-founder of Animal Ventures., Today, I've been challenged to explain one concept at five levels of increasing complexity., My topic is blockchain technology., Blockchain is a new network, and it's going to help us decentralize trade, allowing us to do a lot of our transactions much more peer to peer directly and lower our use of intermediaries like companies or banks maybe., I think today everyone can leave understanding something about blockchain at some level.]   \n",
       "1                                                                                                                                                                                                                                                                                                                                                                                                                                                                                                [Do you know what we're gonna talk about today?, It's called blockchain.]   \n",
       "2                                                                                                                                                                                                                                                                                                                                                                                                                                                                     [That's a really good question., It's actually a way that we can trade., Do you know what trade is?]   \n",
       "3                                                                                                                                                                                                                                                                                                                                          [When you give up most of what you want?, Well, sometimes that definitely happens for sure., What if I told you that this is the kind of technology that I work on that means you could trade with any kid all over the world?]   \n",
       "4                                                                                                                                                                                                                                                                                                                                                                                                                                                                                                                                                                  [Yeah.]   \n",
       "\n",
       "   turn_num_tokens  \n",
       "0               99  \n",
       "1               17  \n",
       "2               24  \n",
       "3               48  \n",
       "4                2  "
      ]
     },
     "execution_count": 3,
     "metadata": {},
     "output_type": "execute_result"
    }
   ],
   "source": [
    "dialogs_df = pd.read_json('./data/wired_parsed_ds.json')\n",
    "dialogs_df.head()"
   ]
  },
  {
   "cell_type": "code",
   "execution_count": 4,
   "metadata": {},
   "outputs": [],
   "source": [
    "dialogs_df = dialogs_df[dialogs_df.dialog_lvl != 'self']"
   ]
  },
  {
   "cell_type": "code",
   "execution_count": 5,
   "metadata": {},
   "outputs": [],
   "source": [
    "dialogs = dialogs_df.dialog_id.value_counts().to_dict()\n",
    "dialogs = [d for d in dialogs.items() if d[1] > 1]"
   ]
  },
  {
   "cell_type": "code",
   "execution_count": 6,
   "metadata": {
    "scrolled": true,
    "tags": []
   },
   "outputs": [
    {
     "data": {
      "text/plain": [
       "[('music_harmony_7', 56),\n",
       " ('dimensions_4', 54),\n",
       " ('dimensions_7', 54),\n",
       " ('dimensions_3', 53),\n",
       " ('sleep_scientist_3', 49),\n",
       " ('dimensions_5', 47),\n",
       " ('gravity_7', 44),\n",
       " ('lasers_7', 41),\n",
       " ('sleep_scientist_4', 40),\n",
       " ('gravity_3', 39),\n",
       " ('lasers_3', 37),\n",
       " ('music_harmony_4', 36),\n",
       " ('dimensions_6', 36),\n",
       " ('machine_learning_3', 35),\n",
       " ('gravity_5', 33),\n",
       " ('gravity_4', 33),\n",
       " ('blockchain_7', 31),\n",
       " ('origani_3', 30),\n",
       " ('blackhole_3', 30),\n",
       " ('gravity_6', 30),\n",
       " ('machine_learning_4', 28),\n",
       " ('lasers_4', 26),\n",
       " ('music_harmony_6', 26),\n",
       " ('nano_technology_5', 26),\n",
       " ('origani_5', 24),\n",
       " ('lasers_6', 24),\n",
       " ('origani_6', 24),\n",
       " ('machine_learning_5', 24),\n",
       " ('blockchain_4', 23),\n",
       " ('hacking_6', 23),\n",
       " ('sleep_scientist_6', 23),\n",
       " ('sleep_scientist_5', 22),\n",
       " ('nano_technology_3', 22),\n",
       " ('hacking_3', 21),\n",
       " ('nano_technology_4', 21),\n",
       " ('hacking_7', 19),\n",
       " ('hacking_5', 19),\n",
       " ('machine_learning_7', 18),\n",
       " ('hacking_4', 18),\n",
       " ('music_harmony_5', 18),\n",
       " ('origani_7', 17),\n",
       " ('origani_4', 17),\n",
       " ('blockchain_6', 17),\n",
       " ('connectome_6', 15),\n",
       " ('lasers_5', 14),\n",
       " ('nano_technology_7', 14),\n",
       " ('machine_learning_6', 14),\n",
       " ('blackhole_7', 14),\n",
       " ('music_harmony_3', 14),\n",
       " ('connectome_5', 13),\n",
       " ('connectome_7', 13),\n",
       " ('sleep_scientist_7', 13),\n",
       " ('blackhole_6', 12),\n",
       " ('virtual_reality_7', 12),\n",
       " ('virtual_reality_5', 12),\n",
       " ('connectome_3', 11),\n",
       " ('blockchain_3', 11),\n",
       " ('blockchain_5', 9),\n",
       " ('blackhole_4', 9),\n",
       " ('nano_technology_6', 9),\n",
       " ('virtual_reality_6', 8),\n",
       " ('connectome_4', 8),\n",
       " ('virtual_reality_3', 7),\n",
       " ('blackhole_5', 5),\n",
       " ('virtual_reality_4', 5)]"
      ]
     },
     "execution_count": 6,
     "metadata": {},
     "output_type": "execute_result"
    }
   ],
   "source": [
    "dialogs"
   ]
  },
  {
   "cell_type": "code",
   "execution_count": 7,
   "metadata": {},
   "outputs": [
    {
     "data": {
      "text/plain": [
       "65"
      ]
     },
     "execution_count": 7,
     "metadata": {},
     "output_type": "execute_result"
    }
   ],
   "source": [
    "len(dialogs)"
   ]
  },
  {
   "cell_type": "code",
   "execution_count": 8,
   "metadata": {},
   "outputs": [],
   "source": [
    "import os\n",
    "\n",
    "for did, count  in dialogs:\n",
    "    tmp_df = dialogs_df[dialogs_df.dialog_id == did]\n",
    "    topic = tmp_df['topic'].unique()[0]\n",
    "    lvl = tmp_df['dialog_lvl'].unique()[0]\n",
    "    youtube_link = tmp_df['youtube_link'].unique()[0]\n",
    "    if lvl == 'self':\n",
    "        continue\n",
    "    tmp_df = tmp_df.sort_values('turn_id')\n",
    "    tmp_df['role'] = tmp_df.speaker_id.apply(lambda x: 'Explainer' if x==1 else 'Explainee')\n",
    "    tmp_df.to_json('./data/dialogs/{}.json'.format(did))\n",
    "    annotation_dialog = {'dialogue': [{'author': x[0], 'text': x[1]} for x in zip(tmp_df['role'], [' '.join(x) for x in tmp_df['turn']])], 'topic': topic, 'level': lvl, 'youtube_link':youtube_link}\n",
    "    json.dump(annotation_dialog, open('./data/annotation-tasks/{}-annotation-task.json'.format(did), 'w'))"
   ]
  },
  {
   "cell_type": "code",
   "execution_count": null,
   "metadata": {},
   "outputs": [],
   "source": []
  }
 ],
 "metadata": {
  "kernelspec": {
   "display_name": "Python 3",
   "language": "python",
   "name": "python3"
  },
  "language_info": {
   "codemirror_mode": {
    "name": "ipython",
    "version": 3
   },
   "file_extension": ".py",
   "mimetype": "text/x-python",
   "name": "python",
   "nbconvert_exporter": "python",
   "pygments_lexer": "ipython3",
   "version": "3.6.9"
  }
 },
 "nbformat": 4,
 "nbformat_minor": 4
}
